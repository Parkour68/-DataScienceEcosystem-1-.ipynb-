{
 "cells": [
  {
   "cell_type": "markdown",
   "id": "93c6787a",
   "metadata": {},
   "source": [
    "# Data Science Tools and Ecosystem \n"
   ]
  },
  {
   "cell_type": "markdown",
   "id": "fa828e14",
   "metadata": {},
   "source": [
    "# In this notebook, Data Science Tools and Ecosystem are summarized."
   ]
  },
  {
   "cell_type": "markdown",
   "id": "afa62b09",
   "metadata": {},
   "source": [
    "# Some of the popular languages that Data Scientists use are: \n",
    "\n",
    "1. Python: Python is one of the most popular languages used in data science. It's preferred because it's easy to understand, versatile, and has a robust ecosystem of data science libraries like Pandas, NumPy, Scikit-learn, and TensorFlow.\n",
    "\n",
    "2. R: R is specifically designed for statistics and data visualization, making it another top choice for data scientists. The language has a rich ecosystem of packages specifically designed for data science.\n",
    "\n",
    "3. SQL: SQL (Structured Query Language) isn't a traditional programming language like Python or R, but it's essential for dealing with databases. Knowing how to write SQL queries allows data scientists to extract data for analysis.\n"
   ]
  },
  {
   "cell_type": "code",
   "execution_count": null,
   "id": "653d311e",
   "metadata": {},
   "outputs": [],
   "source": []
  },
  {
   "cell_type": "markdown",
   "id": "c695849e",
   "metadata": {},
   "source": [
    "# Some of the commonly used libraries used by Data Scientists include:\n",
    "\n",
    "1. Pandas: This library provides data structures and functions needed for data manipulation and analysis. It's particularly good for working with numerical tables or data frames.\n",
    "\n",
    "2. NumPy: NumPy is a library for the Python programming language, adding support for large, multi-dimensional arrays and matrices, along with a large collection of high-level mathematical functions to operate on these arrays.\n",
    "\n",
    "3. Matplotlib: This is a data visualization library, allowing the creation of static, animated, and interactive visualizations in Python.\n",
    "\n",
    "4. Seaborn: Based on Matplotlib, Seaborn helps you create more attractive and informative statistical graphics.\n"
   ]
  },
  {
   "cell_type": "markdown",
   "id": "4b859417",
   "metadata": {},
   "source": [
    "| Data Science Tools |\n",
    "| ------------------ |\n",
    "| Jupyter Notebook   |\n",
    "| RStudio            |\n",
    "| Apache Zeppelin    |\n"
   ]
  },
  {
   "cell_type": "code",
   "execution_count": null,
   "id": "9f94280f",
   "metadata": {},
   "outputs": [],
   "source": [
    "### Below are a few examples of evaluating arithmetic expressions in Python:\n",
    "\n",
    "1. Addition: `2 + 3` will give the output `5`.\n",
    "\n",
    "2. Subtraction: `7 - 4` will give the output `3`.\n",
    "\n",
    "3. Multiplication: `3 * 4` will give the output `12`.\n",
    "\n",
    "4. Division: `8 / 2` will give the output `4.0`. (Note that division in Python gives a floating point number.)\n",
    "\n",
    "5. Integer Division: `8 // 3` will give the output `2`, as `//` indicates integer (floor) division.\n",
    "\n",
    "6. Modulus: `10 % 3` will give the output `1`, as `%` returns the remainder of the division.\n",
    "\n",
    "7. Exponentiation: `2 ** 3` will give the output `8`, as `**` is the exponentiation operator.\n"
   ]
  },
  {
   "cell_type": "code",
   "execution_count": 13,
   "id": "a5d26247",
   "metadata": {},
   "outputs": [
    {
     "name": "stdout",
     "output_type": "stream",
     "text": [
      "17\n"
     ]
    }
   ],
   "source": [
    "# This is a simple arithmetic expression to multiply then add integers\n",
    "\n",
    "result = (3 * 4) + 5\n",
    "print(result)\n"
   ]
  },
  {
   "cell_type": "code",
   "execution_count": 14,
   "id": "391df5ce",
   "metadata": {},
   "outputs": [
    {
     "name": "stdout",
     "output_type": "stream",
     "text": [
      "3.3333333333333335\n"
     ]
    }
   ],
   "source": [
    "# This will convert 200 minutes to hours by dividing by 60\n",
    "hours = 200 / 60\n",
    "print(hours)\n"
   ]
  },
  {
   "cell_type": "markdown",
   "id": "b51563e1",
   "metadata": {},
   "source": [
    "**Objectives:**\n",
    "\n",
    "- Introduction to the Jupyter notebook environment.\n",
    "- Learning to write markdown cells in Jupyter, including ordered lists, unordered lists, and tables.\n",
    "- Identifying popular languages used in Data Science.\n",
    "- Listing commonly used libraries in Data Science.\n",
    "- Understanding how to evaluate arithmetic expressions in Python.\n",
    "- Practicing simple Python operations, like converting minutes to hours.\n"
   ]
  },
  {
   "cell_type": "markdown",
   "id": "701464b4",
   "metadata": {},
   "source": [
    "## Author\n",
    "\n",
    "Paul Johnson\n"
   ]
  },
  {
   "cell_type": "code",
   "execution_count": null,
   "id": "8fe2160f",
   "metadata": {},
   "outputs": [],
   "source": []
  }
 ],
 "metadata": {
  "kernelspec": {
   "display_name": "Python 3 (ipykernel)",
   "language": "python",
   "name": "python3"
  },
  "language_info": {
   "codemirror_mode": {
    "name": "ipython",
    "version": 3
   },
   "file_extension": ".py",
   "mimetype": "text/x-python",
   "name": "python",
   "nbconvert_exporter": "python",
   "pygments_lexer": "ipython3",
   "version": "3.9.12"
  }
 },
 "nbformat": 4,
 "nbformat_minor": 5
}
